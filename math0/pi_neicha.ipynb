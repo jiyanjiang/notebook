{
 "metadata": {
  "name": "",
  "signature": "sha256:b8d45cc0badb0196f1b13a97e9d3900a01788fe7249a9e040656124681e0b766"
 },
 "nbformat": 3,
 "nbformat_minor": 0,
 "worksheets": [
  {
   "cells": [
    {
     "cell_type": "markdown",
     "metadata": {},
     "source": [
      "\u5357\u5317\u671d\u65f6\u5019\uff0c\u4f55\u627f\u5929\u53d1\u660e\u7684\u201c\u8c03\u65e5\u6cd5\u201d\uff0c\u201c\u65e5\u201d\u6307\u7684\u662f\u201c\u5206\u6bcd\u201d\u3002\n",
      "\n",
      "$\\frac{A}{B} < \\frac{A+C}{B+D} < \\frac{C}{D}$"
     ]
    },
    {
     "cell_type": "code",
     "collapsed": false,
     "input": [
      "from math import *\n",
      "\n",
      "A=3\n",
      "B=1\n",
      "C=7\n",
      "D=2\n",
      "\n",
      "delta=0.0000001\n",
      "\n",
      "for i in range(1,1001):\n",
      "    F = (A+C+0.0)/(B+D+0.0)\n",
      "    Dev = F - pi\n",
      "    if (fabs(Dev) < delta):\n",
      "        print (A, B)\n",
      "        print (C, D)\n",
      "        print \"PI = \", F\n",
      "        break\n",
      "    elif Dev>0 :\n",
      "        C=A+C\n",
      "        D=B+D\n",
      "    else:\n",
      "        A=A+C\n",
      "        B=B+D"
     ],
     "language": "python",
     "metadata": {},
     "outputs": [
      {
       "output_type": "stream",
       "stream": "stdout",
       "text": [
        "(75593, 24062)\n",
        "(355, 113)\n",
        "PI =  3.14159255429\n"
       ]
      }
     ],
     "prompt_number": 54
    },
    {
     "cell_type": "markdown",
     "metadata": {},
     "source": [
      "\u7956\u51b2\u4e4b\u5bc6\u7387$\\frac{355}{113}$"
     ]
    },
    {
     "cell_type": "code",
     "collapsed": false,
     "input": [],
     "language": "python",
     "metadata": {},
     "outputs": []
    }
   ],
   "metadata": {}
  }
 ]
}