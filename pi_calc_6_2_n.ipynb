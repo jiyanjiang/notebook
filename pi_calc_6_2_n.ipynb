{
 "metadata": {
  "name": "",
  "signature": "sha256:e598d88c1e7365f50cb843dd9e53e1b556e7794aae15b3b2c41695d5708cfa28"
 },
 "nbformat": 3,
 "nbformat_minor": 0,
 "worksheets": [
  {
   "cells": [
    {
     "cell_type": "markdown",
     "metadata": {},
     "source": [
      "\u5272\u5706\u672f\u3002\u5218\u5fbd\u5272\u5230N=1536\uff0c\u7956\u51b2\u4e4b\u5272\u5230N=12288"
     ]
    },
    {
     "cell_type": "code",
     "collapsed": false,
     "input": [
      "from math import *\n",
      "\n",
      "L = 1\n",
      "R = 1\n",
      "\n",
      "for i in range(1,12+1):\n",
      "    H = sqrt(R*R - 0.25*L*L)\n",
      "    D = R - H\n",
      "    N = 6*pow(2,i-1)\n",
      "    Pi = N*L*0.5\n",
      "    Err = fabs(Pi - pi)/pi\n",
      "    \n",
      "    print \"N = \", int(N)\n",
      "    print \"Pi = \", Pi\n",
      "    print \"Err = \", Err\n",
      "    print \"\\n\"\n",
      "    \n",
      "    L = sqrt(D*D + 0.25*L*L)"
     ],
     "language": "python",
     "metadata": {},
     "outputs": [
      {
       "output_type": "stream",
       "stream": "stdout",
       "text": [
        "N =  6\n",
        "Pi =  3.0\n",
        "Err =  0.0450703414486\n",
        "\n",
        "\n",
        "N =  12\n",
        "Pi =  3.10582854123\n",
        "Err =  0.0113840705346\n",
        "\n",
        "\n",
        "N =  24\n",
        "Pi =  3.13262861328\n",
        "Err =  0.00285334265036\n",
        "\n",
        "\n",
        "N =  48\n",
        "Pi =  3.13935020305\n",
        "Err =  0.000713794177092\n",
        "\n",
        "\n",
        "N =  96\n",
        "Pi =  3.14103195089\n",
        "Err =  0.000178477212392\n",
        "\n",
        "\n",
        "N =  192\n",
        "Pi =  3.14145247229\n",
        "Err =  4.46210950266e-05\n",
        "\n",
        "\n",
        "N =  384\n",
        "Pi =  3.14155760791\n",
        "Err =  1.11553857548e-05\n",
        "\n",
        "\n",
        "N =  768\n",
        "Pi =  3.14158389215\n",
        "Err =  2.78885343857e-06\n",
        "\n",
        "\n",
        "N =  1536\n",
        "Pi =  3.14159046323\n",
        "Err =  6.97213797004e-07\n",
        "\n",
        "\n",
        "N =  3072\n",
        "Pi =  3.141592106\n",
        "Err =  1.74303476533e-07\n",
        "\n",
        "\n",
        "N =  6144\n",
        "Pi =  3.14159251669\n",
        "Err =  4.35758707589e-08\n",
        "\n",
        "\n",
        "N =  12288\n",
        "Pi =  3.14159261937\n",
        "Err =  1.08939677604e-08\n",
        "\n",
        "\n"
       ]
      }
     ],
     "prompt_number": 12
    },
    {
     "cell_type": "markdown",
     "metadata": {},
     "source": [
      "\u4e0d\u662f\u5272\u5706\uff0c\u800c\u662f\u7531\u6b63\u516d\u8fb9\u5f62\u5f00\u59cb\u505a\u201c\u6570\u503c\u8ba1\u7b97\u201d\u3002\u6240\u4ee5\u4e0d\u9700\u8981\u753b\u5706\uff0c\u907f\u514d\u4e86\u6d4b\u91cf\u957f\u5ea6\u7684\u8bef\u5dee\u3002"
     ]
    },
    {
     "cell_type": "code",
     "collapsed": false,
     "input": [],
     "language": "python",
     "metadata": {},
     "outputs": []
    }
   ],
   "metadata": {}
  }
 ]
}