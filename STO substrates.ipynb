{
 "cells": [
  {
   "cell_type": "markdown",
   "metadata": {},
   "source": [
    "STO ($SrTiO_3$) substrate, $a = 3.905 $A, mass density: $\\rho = 5.122 g/cm^3$, \n",
    "\n",
    "Bragg formula:\n",
    "\n",
    "$$ 2d \\sin \\theta = n \\lambda$$\n",
    "\n",
    "![Bragg Formula](Bragg.png)\n",
    "\n",
    "X-ray Cu K-$\\alpha$ line, wave length: $\\lambda = 1.5405952 $ A (8.04 kV)\n",
    "\n",
    "$$\\theta = \\sin^{-1} \\frac{\\lambda }{2 d}$$\n",
    "\n",
    "use: $\\frac{\\pi}{180} = \\frac{\\theta}{\\text{deg}}$, to convert $\\theta $ to degrees.\n",
    "\n",
    "$$ \\text{deg} = \\frac{180 \\times \\theta}{\\pi} $$"
   ]
  },
  {
   "cell_type": "code",
   "execution_count": 5,
   "metadata": {},
   "outputs": [
    {
     "name": "stdout",
     "output_type": "stream",
     "text": [
      "Angle (100) direction in arc:  0.1985615087939002\n",
      "Omega:  11.376736427640264\n",
      "2Theta:  22.753472855280528\n"
     ]
    }
   ],
   "source": [
    "#!/usr/bin/python\n",
    "import math\n",
    "\n",
    "Lambda = 1.5405952\n",
    "d = 3.905\n",
    "\n",
    "theta = math.asin (Lambda/(2*d))\n",
    "\n",
    "print (\"Angle (100) direction in arc: \", theta)\n",
    "\n",
    "degree = 180*theta/math.pi\n",
    "\n",
    "print (\"Omega: \", degree)\n",
    "\n",
    "print (\"2Theta: \", 2*degree)"
   ]
  },
  {
   "cell_type": "markdown",
   "metadata": {},
   "source": [
    "Separation between Lattice Planes in a cubic crystal, (h,k,l) direction: \n",
    "\n",
    "$$d_{h,k,l} = \\frac{a }{\\sqrt{h^2 + k^2 + l^2}}$$\n",
    "\n",
    "Separation between (200) planes:\n",
    "\n",
    "$$d = \\frac{a}{2} $$\n",
    "\n",
    "(For $2 a \\sin \\theta = n \\lambda$, $n = 2$)"
   ]
  },
  {
   "cell_type": "code",
   "execution_count": 6,
   "metadata": {},
   "outputs": [
    {
     "name": "stdout",
     "output_type": "stream",
     "text": [
      "Angle (200) direction in arc:  0.40554391664868134\n",
      "Omega:  23.23595483117468\n",
      "2Theta:  46.47190966234936\n"
     ]
    }
   ],
   "source": [
    "Lambda = 1.5405952\n",
    "d = 3.905/2.\n",
    "\n",
    "theta = math.asin (Lambda/(2*d))\n",
    "\n",
    "print (\"Angle (200) direction in arc: \", theta)\n",
    "\n",
    "degree = 180*theta/math.pi\n",
    "\n",
    "print (\"Omega: \", degree)\n",
    "\n",
    "print (\"2Theta: \", 2*degree)"
   ]
  },
  {
   "cell_type": "markdown",
   "metadata": {},
   "source": [
    "在XRD中，对STO(100)取向的衬底，设置2Theta为：46.48, Omega为：23.24。\n",
    "\n",
    "考虑STO(111)方向，\n",
    "\n",
    "$$d_{111} = \\frac{a}{\\sqrt{3}} $$"
   ]
  },
  {
   "cell_type": "code",
   "execution_count": 8,
   "metadata": {},
   "outputs": [
    {
     "name": "stdout",
     "output_type": "stream",
     "text": [
      "Angle (111) direction in arc:  0.3486859666759119\n",
      "Omega:  19.978234265969018\n",
      "2Theta:  39.956468531938036\n"
     ]
    }
   ],
   "source": [
    "Lambda = 1.5405952\n",
    "d = 3.905/math.sqrt(3.)\n",
    "\n",
    "theta = math.asin (Lambda/(2*d))\n",
    "\n",
    "print (\"Angle (111) direction in arc: \", theta)\n",
    "\n",
    "degree = 180*theta/math.pi\n",
    "\n",
    "print (\"Omega: \", degree)\n",
    "\n",
    "print (\"2Theta: \", 2*degree)"
   ]
  },
  {
   "cell_type": "markdown",
   "metadata": {},
   "source": [
    "对STO(111)取向的衬底，我们一般取2Theta：40，Omega: 20。\n",
    "\n",
    "Consider STO(110) cut substrate, we have:\n",
    "\n",
    "$$d_{110} =\\frac{a}{\\sqrt 2} $$"
   ]
  },
  {
   "cell_type": "code",
   "execution_count": 9,
   "metadata": {},
   "outputs": [
    {
     "name": "stdout",
     "output_type": "stream",
     "text": [
      "Angle (110) direction in arc:  0.28271801693067566\n",
      "Omega:  16.198549162435867\n",
      "2Theta:  32.397098324871735\n"
     ]
    }
   ],
   "source": [
    "Lambda = 1.5405952\n",
    "d = 3.905/math.sqrt(2.)\n",
    "\n",
    "theta = math.asin (Lambda/(2*d))\n",
    "\n",
    "print (\"Angle (110) direction in arc: \", theta)\n",
    "\n",
    "degree = 180*theta/math.pi\n",
    "\n",
    "print (\"Omega: \", degree)\n",
    "\n",
    "print (\"2Theta: \", 2*degree)"
   ]
  },
  {
   "cell_type": "markdown",
   "metadata": {},
   "source": [
    "Substrate | cut | 2Theta | Omega\n",
    "--- | --- | --- | ---\n",
    "STO | 200 | 46.48 | 23.24 \n",
    "STO | 111 | 39.96 | 19.98\n",
    "STO | 110 | 32.40 | 16.20"
   ]
  },
  {
   "cell_type": "code",
   "execution_count": null,
   "metadata": {},
   "outputs": [],
   "source": []
  }
 ],
 "metadata": {
  "kernelspec": {
   "display_name": "Python 3",
   "language": "python",
   "name": "python3"
  },
  "language_info": {
   "codemirror_mode": {
    "name": "ipython",
    "version": 3
   },
   "file_extension": ".py",
   "mimetype": "text/x-python",
   "name": "python",
   "nbconvert_exporter": "python",
   "pygments_lexer": "ipython3",
   "version": "3.6.5"
  }
 },
 "nbformat": 4,
 "nbformat_minor": 2
}
