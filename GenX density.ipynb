{
 "cells": [
  {
   "cell_type": "markdown",
   "metadata": {},
   "source": [
    "# GenX density\n",
    "\n",
    "\n",
    "Material | La | Al | O | Sr | Ta | Ti\n",
    "--- | --- | --- | --- | --- | --- | ---\n",
    "Atomic weight(u) | 138.9 | 26.98 | 16 | 87.62 | 180.9 | 47.88\n",
    "\n",
    "$1 u = 1.66054 \\times 10^{-27} kg$\n",
    "\n",
    "SrTiO$_3$ 为例, $\\rho_{STO} = 5.12 g/cm^3$, $a = 3.9045 $A\n"
   ]
  },
  {
   "cell_type": "code",
   "execution_count": 1,
   "metadata": {},
   "outputs": [
    {
     "name": "stdout",
     "output_type": "stream",
     "text": [
      "mass of STO: 183.5\n"
     ]
    }
   ],
   "source": [
    "#!/usr/bin/python\n",
    "import math\n",
    "\n",
    "massSr = 87.62\n",
    "massTi = 47.88\n",
    "massO = 16.0\n",
    "\n",
    "massSTO = massSr + massTi + 3*massO\n",
    "\n",
    "print('mass of STO:', massSTO)"
   ]
  },
  {
   "cell_type": "markdown",
   "metadata": {},
   "source": [
    "1mole STO，体积是：$V = \\frac{M}{\\rho}$"
   ]
  },
  {
   "cell_type": "code",
   "execution_count": 8,
   "metadata": {},
   "outputs": [
    {
     "name": "stdout",
     "output_type": "stream",
     "text": [
      "Volume of one mole STO (cm^3): 35.83984375\n"
     ]
    }
   ],
   "source": [
    "rhoSTO = 5.12\n",
    "V = massSTO/rhoSTO\n",
    "\n",
    "print('Volume of one mole STO (cm^3):', V)"
   ]
  },
  {
   "cell_type": "code",
   "execution_count": 13,
   "metadata": {},
   "outputs": [
    {
     "name": "stdout",
     "output_type": "stream",
     "text": [
      "lattice constant a of STO (cm): 3.904719777156001e-08\n"
     ]
    }
   ],
   "source": [
    "NA = 6.02e23\n",
    "volumeCell = V/NA\n",
    "la = volumeCell**(1/3)\n",
    "\n",
    "print('lattice constant a of STO (cm):', la)"
   ]
  },
  {
   "cell_type": "markdown",
   "metadata": {},
   "source": [
    "晶格常数算出来是：$a = 3.9047 $A\n",
    "\n",
    "文献数值为：$a = 3.9045$A，每单位$A^3$具有的单元(formula unit)个数：$1/a^3$"
   ]
  },
  {
   "cell_type": "code",
   "execution_count": 15,
   "metadata": {},
   "outputs": [
    {
     "name": "stdout",
     "output_type": "stream",
     "text": [
      "GenX Density (formula unit per A^3): 0.016799784796925604\n"
     ]
    }
   ],
   "source": [
    "a = 3.9045\n",
    "\n",
    "densSTO = 1/(a**3)\n",
    "\n",
    "print('GenX Density (formula unit per A^3):', densSTO)"
   ]
  },
  {
   "cell_type": "markdown",
   "metadata": {},
   "source": [
    "现在考虑LSAT,  (LaAlO$_3$)$_{0.3}$-(SrAl$_{0.5}$Ta$_{0.5}$O$_3$)$_{0.7}$\n",
    "\n"
   ]
  },
  {
   "cell_type": "code",
   "execution_count": 18,
   "metadata": {},
   "outputs": [
    {
     "name": "stdout",
     "output_type": "stream",
     "text": [
      "mass of LSAT: 231.856\n",
      "volue of LSAT (cm^3): 34.4\n"
     ]
    }
   ],
   "source": [
    "massLa = 138.9\n",
    "massAl = 26.98\n",
    "massO = 16\n",
    "massSr = 87.62\n",
    "massTa = 180.9\n",
    "\n",
    "massLSAT = 0.3*(massLa + massAl + 3.0*massO) + 0.7*(massSr + 0.5*massAl + 0.5*massTa + 3.0*massO)\n",
    "\n",
    "print('mass of LSAT:', massLSAT)\n",
    "\n",
    "rhoLSAT = 6.74\n",
    "\n",
    "VLSAT = massLSAT/rhoLSAT\n",
    "\n",
    "print('volue of LSAT (cm^3):', VLSAT)"
   ]
  },
  {
   "cell_type": "code",
   "execution_count": 21,
   "metadata": {},
   "outputs": [
    {
     "name": "stdout",
     "output_type": "stream",
     "text": [
      "lattice constant a of LSAT (cm): 3.851713571108361e-08\n"
     ]
    }
   ],
   "source": [
    "NA = 6.02e23\n",
    "volumeCell = VLSAT/NA\n",
    "aLSAT = volumeCell**(1/3)\n",
    "\n",
    "print('lattice constant a of LSAT (cm):', aLSAT)"
   ]
  },
  {
   "cell_type": "markdown",
   "metadata": {},
   "source": [
    "for LSAT, $a_{LSAT} = 3.85 $A"
   ]
  },
  {
   "cell_type": "code",
   "execution_count": 22,
   "metadata": {},
   "outputs": [
    {
     "name": "stdout",
     "output_type": "stream",
     "text": [
      "GenX Density (formula unit per A^3): 0.01752337728050327\n"
     ]
    }
   ],
   "source": [
    "aLSAT = 3.85\n",
    "densLSAT = 1/(aLSAT**3)\n",
    "\n",
    "print('GenX Density (formula unit per A^3):', densLSAT)"
   ]
  },
  {
   "cell_type": "markdown",
   "metadata": {},
   "source": [
    "according to the number provided by manufacturer, $a_{LSAT} = 3.868 $A"
   ]
  },
  {
   "cell_type": "code",
   "execution_count": 24,
   "metadata": {},
   "outputs": [
    {
     "name": "stdout",
     "output_type": "stream",
     "text": [
      "GenX Density (formula unit per A^3): 0.017279875287805724\n"
     ]
    }
   ],
   "source": [
    "aLSAT = 3.868\n",
    "densLSAT = 1/(aLSAT**3)\n",
    "\n",
    "print('GenX Density (formula unit per A^3):', densLSAT)"
   ]
  },
  {
   "cell_type": "markdown",
   "metadata": {},
   "source": [
    "GenX Density(LSAT, formula unit/$A^3$): 0.01728\n",
    "\n",
    "Substrate | STO | LSAT \n",
    "--- | --- | ---\n",
    "density ($g/cm^3$) | 5.12 | 6.74\n",
    "Lattice constant $a$ ($A$) |3.9045 | 3.868 \n",
    "GenX dens (1/$A^3$) |0.0168  |0.01728\n"
   ]
  },
  {
   "cell_type": "markdown",
   "metadata": {},
   "source": [
    "Lattice constant |  | a ($A$) | b ($A$) | c ($A$) | Volue ($A^3$)\n",
    "--- | --- | --- | --- | --- | ---\n",
    "LSAT | | 3.868 | 3.868 | 3.868 | 0.017279875287805724\n",
    "1105 1 BM | SrCoO$_{2.5}$ | 3.868 | 3.868 | 3.97 | 0.016835908718698372\n",
    "1107 4 1bar | SrCoO$_{2.5}$ | 3.868 | 3.868 | 3.96 | 0.016878423639705188\n",
    "1105 1 1bar | Sr$_2$Co$_2$O$_6$H$_2$ | 2.518 | 5.539 | 9.06 | 0.007913793457511396"
   ]
  },
  {
   "cell_type": "code",
   "execution_count": 27,
   "metadata": {},
   "outputs": [
    {
     "name": "stdout",
     "output_type": "stream",
     "text": [
      "57.87078803199999 59.39685328 59.24723904 126.36165012\n",
      "0.017279875287805724 0.016835908718698372 0.016878423639705188 0.007913793457511396\n"
     ]
    }
   ],
   "source": [
    "volumeLSAT = 3.868**3\n",
    "volumeSCO1105 = 3.868*3.868*3.97\n",
    "volumeSCO1107 = 3.868*3.868*3.96\n",
    "volumeSCO227 = 2.518*5.539*9.06\n",
    "\n",
    "print(volumeLSAT, volumeSCO1105, volumeSCO1107, volumeSCO227)\n",
    "\n",
    "denseLSAT = 1/volumeLSAT\n",
    "denseSCO1105 = 1/volumeSCO1105\n",
    "denseSCO1107 = 1/volumeSCO1107\n",
    "denseSCO227 = 1/volumeSCO227\n",
    "\n",
    "print(denseLSAT, denseSCO1105, denseSCO1107, denseSCO227)"
   ]
  },
  {
   "cell_type": "markdown",
   "metadata": {},
   "source": [
    "X-ray, $\\lambda =  1.540593 $ A"
   ]
  },
  {
   "cell_type": "markdown",
   "metadata": {},
   "source": [
    "Sample | Formula | Thickness (nm)\n",
    "--- | --- | --- \n",
    "SCO1105 | SrCoO$_{2.5}$ | 19.24\n",
    "SCO1107 | SrCoO$_{2.5}$ | 17.88\n",
    "SCO227 | Sr$_2$Co$_2$O$_6$H$_2$ | 18.66"
   ]
  },
  {
   "cell_type": "code",
   "execution_count": null,
   "metadata": {},
   "outputs": [],
   "source": []
  }
 ],
 "metadata": {
  "kernelspec": {
   "display_name": "Python 3",
   "language": "python",
   "name": "python3"
  },
  "language_info": {
   "codemirror_mode": {
    "name": "ipython",
    "version": 3
   },
   "file_extension": ".py",
   "mimetype": "text/x-python",
   "name": "python",
   "nbconvert_exporter": "python",
   "pygments_lexer": "ipython3",
   "version": "3.6.5"
  }
 },
 "nbformat": 4,
 "nbformat_minor": 2
}
