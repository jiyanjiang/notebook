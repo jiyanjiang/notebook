{
 "metadata": {
  "name": "",
  "signature": "sha256:1c09c11e17ee22c460b7f265a994d2a3f9214db915bb9c06c787f70de7b29d85"
 },
 "nbformat": 3,
 "nbformat_minor": 0,
 "worksheets": [
  {
   "cells": [
    {
     "cell_type": "markdown",
     "metadata": {},
     "source": [
      "\u4ecb\u7535\u51fd\u6570\uff1a$\\epsilon(q,0) = 1+ \\frac{\\lambda^2}{q^2} S(q/2k_F)$\uff0c\u5728$q=2k_F$\u5904\u7a81\u7136\u4e0b\u964d\u3002\n",
      "\n",
      "$S(x) = \\frac{1}{2}\\left[1+ \\frac{1-x^2}{2x} \\ln \\left| \\frac{1+x}{1-x} \\right|  \\right]$"
     ]
    },
    {
     "cell_type": "code",
     "collapsed": false,
     "input": [
      "%matplotlib inline"
     ],
     "language": "python",
     "metadata": {},
     "outputs": [],
     "prompt_number": 1
    },
    {
     "cell_type": "code",
     "collapsed": false,
     "input": [
      "from pylab import *"
     ],
     "language": "python",
     "metadata": {},
     "outputs": [],
     "prompt_number": 2
    },
    {
     "cell_type": "code",
     "collapsed": false,
     "input": [
      "import matplotlib.pyplot as plt"
     ],
     "language": "python",
     "metadata": {},
     "outputs": [],
     "prompt_number": 3
    },
    {
     "cell_type": "code",
     "collapsed": false,
     "input": [
      "from pylab import *"
     ],
     "language": "python",
     "metadata": {},
     "outputs": [],
     "prompt_number": 4
    },
    {
     "cell_type": "code",
     "collapsed": false,
     "input": [
      "x = linspace(0., 1.5, 100)\n",
      "y = 0.5*((1.0-x*x)/(2.0*x))*log(abs((1.0+x)/(1.0-x)))+0.5\n",
      "\n",
      "figure()\n",
      "plot(x, y, 'r')\n",
      "xlabel('x')\n",
      "ylabel('y')\n",
      "title('soft mode')\n",
      "show()"
     ],
     "language": "python",
     "metadata": {},
     "outputs": [
      {
       "metadata": {},
       "output_type": "display_data",
       "png": "[encoded data removed]",
       "text": [
        "<matplotlib.figure.Figure at 0x10cca3bd0>"
       ]
      }
     ],
     "prompt_number": 14
    },
    {
     "cell_type": "code",
     "collapsed": false,
     "input": [
      "from IPython.display import display\n",
      "\n",
      "from sympy.interactive import printing\n",
      "printing.init_printing(use_latex='mathjax')\n",
      "\n",
      "from __future__ import division\n",
      "import sympy as sym\n",
      "from sympy import *\n",
      "x, y, z = symbols(\"x y z\")\n",
      "k, m, n = symbols(\"k m n\", integer=True)\n",
      "f, g, h = map(Function, 'fgh')"
     ],
     "language": "python",
     "metadata": {},
     "outputs": [],
     "prompt_number": 1
    },
    {
     "cell_type": "code",
     "collapsed": false,
     "input": [
      "integrate(x**2 * cos(x), (x, 0, pi/2))"
     ],
     "language": "python",
     "metadata": {},
     "outputs": [
      {
       "latex": [
        "$$-2 + \\frac{\\pi^{2}}{4}$$"
       ],
       "metadata": {},
       "output_type": "pyout",
       "prompt_number": 2,
       "text": [
        "      2\n",
        "     \u03c0 \n",
        "-2 + \u2500\u2500\n",
        "     4 "
       ]
      }
     ],
     "prompt_number": 2
    },
    {
     "cell_type": "code",
     "collapsed": false,
     "input": [
      "integrate(x*x,(x,0,1))"
     ],
     "language": "python",
     "metadata": {},
     "outputs": [
      {
       "latex": [
        "$$\\frac{1}{3}$$"
       ],
       "metadata": {},
       "output_type": "pyout",
       "prompt_number": 3,
       "text": [
        "1/3"
       ]
      }
     ],
     "prompt_number": 3
    },
    {
     "cell_type": "code",
     "collapsed": false,
     "input": [
      "integrate((log(1+x))/2, (x,0,1))"
     ],
     "language": "python",
     "metadata": {},
     "outputs": [
      {
       "latex": [
        "$$- \\frac{1}{2} + \\frac{1}{2} \\log{\\left (4 \\right )}$$"
       ],
       "metadata": {},
       "output_type": "pyout",
       "prompt_number": 4,
       "text": [
        "  1   log(4)\n",
        "- \u2500 + \u2500\u2500\u2500\u2500\u2500\u2500\n",
        "  2     2   "
       ]
      }
     ],
     "prompt_number": 4
    },
    {
     "cell_type": "code",
     "collapsed": false,
     "input": [
      "integrate((x*log(1+x))/2, (x,0,1))"
     ],
     "language": "python",
     "metadata": {},
     "outputs": [
      {
       "latex": [
        "$$- \\frac{1}{4} \\log{\\left (8 \\right )} + \\frac{1}{8} + \\frac{1}{4} \\log{\\left (2 \\right )} + \\frac{1}{4} \\log{\\left (4 \\right )}$$"
       ],
       "metadata": {},
       "output_type": "pyout",
       "prompt_number": 5,
       "text": [
        "  log(8)   1   log(2)   log(4)\n",
        "- \u2500\u2500\u2500\u2500\u2500\u2500 + \u2500 + \u2500\u2500\u2500\u2500\u2500\u2500 + \u2500\u2500\u2500\u2500\u2500\u2500\n",
        "    4      8     4        4   "
       ]
      }
     ],
     "prompt_number": 5
    },
    {
     "cell_type": "code",
     "collapsed": false,
     "input": [
      "integrate((x/2)*log(1-x), (x,0,1))"
     ],
     "language": "python",
     "metadata": {},
     "outputs": [
      {
       "latex": [
        "$$\\mathrm{NaN}$$"
       ],
       "metadata": {},
       "output_type": "pyout",
       "prompt_number": 8,
       "text": [
        "nan"
       ]
      }
     ],
     "prompt_number": 8
    },
    {
     "cell_type": "code",
     "collapsed": false,
     "input": [],
     "language": "python",
     "metadata": {},
     "outputs": []
    }
   ],
   "metadata": {}
  }
 ]
}