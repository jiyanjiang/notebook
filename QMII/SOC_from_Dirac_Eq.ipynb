{
 "cells": [
  {
   "cell_type": "markdown",
   "metadata": {},
   "source": [
    "Start from the Dirac eq:\n",
    "\n",
    "$$ (mc^2 + V)\\phi + c \\sigma \\cdot p \\chi = E \\phi \\\\ c \\sigma \\cdot p \\phi + (-mc^2 + V) \\chi = E \\chi $$"
   ]
  },
  {
   "cell_type": "markdown",
   "metadata": {},
   "source": [
    "Define: $E'= E - mc^2$, delete $\\chi$,\n",
    "\n",
    "$$ \\chi = \\frac{c \\sigma \\cdot p}{2mc^2 + E' - V } $$"
   ]
  },
  {
   "cell_type": "markdown",
   "metadata": {},
   "source": [
    "$2mc^2 \\gg E' - V$,\n",
    "\n",
    "$$\\chi = \\frac{c \\sigma \\cdot p}{ 2mc^2 + E' - V } = c \\frac{1}{2mc^2} \\frac{1}{\\left( 1 + \\frac{E'- V}{2mc^2} \\right)} \\sigma \\cdot p \\phi \\\\ = \\frac{c}{2mc^2} \\left(1 - \\frac{E'-V}{2mc^2} \\right) \\sigma \\cdot p \\phi$$"
   ]
  },
  {
   "cell_type": "markdown",
   "metadata": {},
   "source": [
    "plug into the original Dirac eq.\n",
    "\n",
    "$$ \\frac{ c^2 }{ 2mc^2} \\sigma \\cdot p \\left( 1 - \\frac{E' - V}{2mc^2}  \\right) \\sigma \\cdot p \\phi = ( E'-V )\\phi  $$"
   ]
  },
  {
   "cell_type": "markdown",
   "metadata": {},
   "source": [
    "The first term in LHS:\n",
    "\n",
    "$$\\frac{1}{2m } p^2$$\n",
    "\n",
    "The second term:\n",
    "\n",
    "$$ - \\frac{E'}{4m^2 c^2} p^2    $$\n",
    "\n",
    "The third term:\n",
    "\n",
    "$$ \\frac{1}{4m^2 c^2 } (\\sigma \\cdot p) V (\\sigma \\cdot p) $$\n",
    "\n",
    "where: \n",
    "\n",
    "$$ (\\sigma \\cdot p) V (\\sigma \\cdot p) =  (\\sigma \\cdot p V)  (\\sigma \\cdot p) = (p V)\\cdot p + i \\sigma \\cdot ( p V \\times p )$$"
   ]
  },
  {
   "cell_type": "markdown",
   "metadata": {},
   "source": [
    "Focus on the last term: $ i \\sigma \\cdot (p V \\times p) $\n",
    "\n",
    "$$i \\sigma \\cdot \\frac{\\hbar }{i }\\nabla V \\times p =\\hbar \\sigma \\cdot \\nabla V \\times p $$\n",
    "\n",
    "Columb potential: $ V(r) = - \\frac{1}{4 \\pi \\epsilon_0 }\\frac{1}{r}$,\n",
    "\n",
    "\n",
    "$$\\nabla V = \\frac{1}{4 \\pi \\epsilon_0 r^2} \\frac{\\vec r}{r} $$"
   ]
  },
  {
   "cell_type": "markdown",
   "metadata": {},
   "source": [
    "SOC term:\n",
    "\n",
    "$$\\frac{1}{ 4m^2 c^2  } \\hbar \\sigma \\cdot \\frac{1}{4 \\pi \\epsilon_0 r^3} \\vec r \\times \\vec p  = \\frac{1}{2 m^2 c^2 } \\frac{1}{4 \\pi \\epsilon_0 r^3} \\frac{\\hbar \\sigma}{2} \\cdot (\\vec r \\times \\vec p ) \\\\ = \\frac{1}{8 m^2 c^2 \\pi \\epsilon_0 r^3} S \\cdot L $$"
   ]
  },
  {
   "cell_type": "code",
   "execution_count": null,
   "metadata": {},
   "outputs": [],
   "source": []
  }
 ],
 "metadata": {
  "kernelspec": {
   "display_name": "Python 3",
   "language": "python",
   "name": "python3"
  },
  "language_info": {
   "codemirror_mode": {
    "name": "ipython",
    "version": 3
   },
   "file_extension": ".py",
   "mimetype": "text/x-python",
   "name": "python",
   "nbconvert_exporter": "python",
   "pygments_lexer": "ipython3",
   "version": "3.8.3"
  }
 },
 "nbformat": 4,
 "nbformat_minor": 4
}
