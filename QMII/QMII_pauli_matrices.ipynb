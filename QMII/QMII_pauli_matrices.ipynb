{
 "cells": [
  {
   "cell_type": "markdown",
   "metadata": {},
   "source": [
    "# Pauli matrices\n",
    "\n",
    "Properties:\n",
    "\n",
    "$$ \\sigma_i^2 = 1 \\\\ \\{ \\sigma_i, \\sigma_j\\} = 0, i \\neq j  $$\n",
    "\n",
    "put them together:\n",
    "\n",
    "$$ \\{ \\sigma_i, \\sigma_j \\} = 2 \\delta_{i,j} $$\n",
    "\n",
    "Also the commutation relations:\n",
    "\n",
    "$$ [\\sigma_i , \\sigma_j  ] = 2 i \\epsilon_{ijk} \\sigma_k $$\n",
    "\n",
    "From:\n",
    "\n",
    "$$ \\sigma_1 \\sigma_2 + \\sigma_2 \\sigma_1 = 0 \\\\  \\sigma_1 \\sigma_2 -  \\sigma_2 \\sigma_1 = 2i \\sigma_3 $$\n",
    "\n",
    "we get:\n",
    "\n",
    "$$ \\sigma_1  \\sigma_2 = - \\sigma_2 \\sigma_1 = i \\sigma_3$$\n",
    "\n",
    "\n",
    "in addition:\n",
    "\n",
    "$$ \\sigma_i^\\dagger = \\sigma_i \\\\ \\det \\sigma_i = -1 \\\\ \\text{Tr} \\sigma_i = 0   $$\n",
    "\n",
    "\n",
    "Point product:\n",
    "\n",
    "$$ \\sigma \\cdot A = \\sum\\limits_i \\sigma_i A_i $$\n",
    "\n",
    "\n",
    "An important identity:\n",
    "\n",
    "$$ ( \\sigma \\cdot A  ) ( \\sigma \\cdot B ) = A \\cdot B + i \\sigma \\cdot (A \\times B) $$\n",
    "\n",
    "Prove:\n",
    "\n",
    "$$ \\left( \\sum\\limits_i \\sigma_i A_i \\right) \\left( \\sum\\limits_j \\sigma_j B_j \\right)  = \\sum\\limits_{i,j } \\sigma_i \\sigma_j  A_i B_j $$\n",
    "\n",
    "using:\n",
    "\n",
    "$$ \\sigma_i \\sigma_j = \\frac{1}{2}\\left( \\sigma_i \\sigma_j + \\sigma_j \\sigma_i +  \\sigma_i \\sigma_j  -  \\sigma_j \\sigma_i \\right) \\\\ = \\frac{1}{2} (2 \\delta_{ij} + 2i \\epsilon_{ijk}\\sigma_k ) \\\\ = \\delta_{ij} + i \\sigma_k $$\n",
    "\n",
    "thus,\n",
    "\n",
    "$$ (\\sigma \\cdot A) (\\sigma \\cdot B) = \\sum\\limits_{ij} (\\delta_{ij}  + i \\sigma_k )A_i B_j \\\\ = \\sum\\limits_i A_i B_i + i \\sum\\limits_{ij } A_i B_j \\sigma_k \\\\ = A \\cdot B + i \\sigma \\cdot (A \\times B) $$\n",
    "\n",
    "\n",
    "in addition,\n",
    "\n",
    "$$ (\\sigma \\cdot A)^2 = A \\cdot A = |A|^2 $$"
   ]
  },
  {
   "cell_type": "markdown",
   "metadata": {},
   "source": [
    "Now prove:\n",
    "\n",
    "$$ (\\sigma \\cdot p)^2 = p \\cdot p = p^2$$\n",
    "\n",
    "and\n",
    "\n",
    "$$ (\\sigma \\cdot p)V (\\sigma \\cdot p) =  pV \\cdot p + i \\sigma ( pV \\times p ) $$\n",
    "\n",
    "https://www.sccs.swarthmore.edu/users/02/lisal/physics/presentations/so.pdf\n",
    "\n",
    "http://alma.karlov.mff.cuni.cz/hamrle/teaching/lectures/hamrle_spin-orbit-coupling.pdf"
   ]
  },
  {
   "cell_type": "markdown",
   "metadata": {},
   "source": [
    "$$ \\left( \\sigma \\cdot \\hat p \\right) V  \\left( \\sigma \\cdot \\hat p \\right) = \\left( \\sigma \\cdot \\hat p V \\right)  \\left( \\sigma \\cdot \\hat p \\right) \\\\ = \\hat p V \\cdot \\hat p + i \\sigma \\left( \\hat p V \\times \\hat p \\right) $$\n",
    "\n",
    "SOC term,\n",
    "\n",
    "$$ H_{SOC} = \\frac{1}{8 \\pi \\epsilon_0 m^2 c^2 r^3 } \\vec S \\cdot \\vec L $$"
   ]
  },
  {
   "cell_type": "code",
   "execution_count": null,
   "metadata": {},
   "outputs": [],
   "source": []
  }
 ],
 "metadata": {
  "kernelspec": {
   "display_name": "Python 3",
   "language": "python",
   "name": "python3"
  },
  "language_info": {
   "codemirror_mode": {
    "name": "ipython",
    "version": 3
   },
   "file_extension": ".py",
   "mimetype": "text/x-python",
   "name": "python",
   "nbconvert_exporter": "python",
   "pygments_lexer": "ipython3",
   "version": "3.8.3"
  }
 },
 "nbformat": 4,
 "nbformat_minor": 4
}
