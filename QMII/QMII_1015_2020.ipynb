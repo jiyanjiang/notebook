{
 "cells": [
  {
   "cell_type": "markdown",
   "metadata": {},
   "source": [
    "# Helium atom\n",
    "\n",
    "$$ H = h_1 + h_2 + V_{ee} $$\n",
    "\n",
    "experimentally, $ E_{gs} = -78.975$ eV\n",
    "\n",
    "$$ V_{ee} = \\frac{e^2}{4 \\pi \\epsilon_0} \\frac{1}{|\\textbf{r}_1 - \\textbf{r}_2|} $$"
   ]
  },
  {
   "cell_type": "markdown",
   "metadata": {},
   "source": [
    "suppose $V_{ee} = 0$, the exact solution for $H = h_1 + h_1$\n",
    "\n",
    "$$ \\Psi_0 = \\psi_{100}(r_1) \\psi_{200} (r_2) $$"
   ]
  },
  {
   "cell_type": "markdown",
   "metadata": {},
   "source": [
    "variational method,\n",
    "\n",
    "using $\\Psi_0$ as the trial WF\n",
    "\n",
    "$$ H \\Psi_0 = ( 8 E_1 + V_{ee} )\\Psi_0 $$\n",
    "\n",
    "we need to evaluate:\n",
    "\n",
    "$$ \\left\\langle V_{ee} \\right\\rangle = \\left(\\frac{e^2}{ 4 \\pi \\epsilon_0} \\right) \\left( \\frac{8}{\\pi a^3} \\right)^2 \\int  \\frac{e^{4 (r_1 + r_2)/a}}{|\\textbf{r}_1 - \\textbf{r}_2 |} d^3 \\textbf{r}_1 d^3 \\textbf{r}_2  $$"
   ]
  },
  {
   "cell_type": "markdown",
   "metadata": {},
   "source": [
    "Fix $\\textbf{r}_1 $, do $\\textbf{r}_2 $ integral, ..., after two integrations, finnally, we get:\n",
    "\n",
    "$$ \\left\\langle V_{ee} \\right\\rangle = \\frac{e^2}{4 \\pi \\epsilon_0} \\times \\frac{ 8}{ \\pi a^3} \\times 4 \\pi \\times \\frac{5 a^2}{128 } =   \\frac{e^2}{4 \\pi \\epsilon_0 } \\times \\frac{5}{4a}  = 34 eV$$"
   ]
  },
  {
   "cell_type": "code",
   "execution_count": 3,
   "metadata": {},
   "outputs": [
    {
     "data": {
      "text/plain": [
       "4.0"
      ]
     },
     "execution_count": 3,
     "metadata": {},
     "output_type": "execute_result"
    }
   ],
   "source": [
    "128/(4*8)"
   ]
  },
  {
   "cell_type": "code",
   "execution_count": 5,
   "metadata": {},
   "outputs": [
    {
     "data": {
      "text/plain": [
       "-74.8"
      ]
     },
     "execution_count": 5,
     "metadata": {},
     "output_type": "execute_result"
    }
   ],
   "source": [
    "-13.6*8 + 34"
   ]
  },
  {
   "cell_type": "markdown",
   "metadata": {},
   "source": [
    "consider ground state energy for hydrogen atom, $E_1 = -13.6 $eV, \n",
    "\n",
    "$$ \\left\\langle H \\right\\rangle \\simeq -75eV $$"
   ]
  },
  {
   "cell_type": "markdown",
   "metadata": {},
   "source": [
    "## screening effect\n",
    "\n",
    "Coulomb interaction: $$ V =  \\frac{1}{r}$$\n",
    "\n",
    "in real solids, use Yukawa potential:\n",
    "\n",
    "$$ V \\to \\frac{1}{r} e^{- r/\\xi} $$\n",
    "\n",
    "where, $\\xi$ is the screening length."
   ]
  },
  {
   "cell_type": "markdown",
   "metadata": {},
   "source": [
    "step 1: normalized trial WF\n",
    "\n",
    "$$ \\Psi_Z(1, 2) = \\frac{Z^3}{ \\pi a^3} e^{-Z (r_1 + r_2)/a } $$\n",
    "\n",
    "\n",
    "Z is the variational parameter"
   ]
  },
  {
   "cell_type": "markdown",
   "metadata": {},
   "source": [
    "Step 2: evaluate: $\\left\\langle H \\right\\rangle_Z$\n",
    "\n",
    "$$  \\left\\langle \\Psi_Z \\right| H \\left| \\Psi_Z \\right\\rangle = \\left[-2Z^2 + (27/4)Z \\right] E_1  $$\n",
    "\n",
    "Step3: derivative\n",
    "\n",
    "use $\\frac{d}{d Z} \\left\\langle \\Psi_Z \\right| H \\left| \\Psi_Z \\right\\rangle = 0 $, we get: $Z = 27/16$"
   ]
  },
  {
   "cell_type": "code",
   "execution_count": 7,
   "metadata": {},
   "outputs": [
    {
     "data": {
      "text/plain": [
       "1.6875"
      ]
     },
     "execution_count": 7,
     "metadata": {},
     "output_type": "execute_result"
    }
   ],
   "source": [
    "27/16"
   ]
  },
  {
   "cell_type": "code",
   "execution_count": 16,
   "metadata": {},
   "outputs": [
    {
     "name": "stdout",
     "output_type": "stream",
     "text": [
      "Ground State Energy for Helium is -77.45625 eV\n"
     ]
    }
   ],
   "source": [
    "Z = 1.6875\n",
    "E1 = -13.6\n",
    "\n",
    "EGS = (-2*Z*Z+ (27.0/4.0)*Z)*E1\n",
    "\n",
    "print(\"Ground State Energy for Helium is\", EGS, \"eV\")"
   ]
  },
  {
   "cell_type": "markdown",
   "metadata": {},
   "source": [
    "## Fun facts about helium\n",
    "\n",
    "- 在太阳上发现；\n",
    "- 聚变\n",
    "- He-3\n",
    "- Onnes 液化He，发现超导\n",
    "\n",
    "..."
   ]
  },
  {
   "cell_type": "markdown",
   "metadata": {},
   "source": [
    "Book: The Universe in a Helium Droplet"
   ]
  },
  {
   "cell_type": "code",
   "execution_count": null,
   "metadata": {},
   "outputs": [],
   "source": []
  }
 ],
 "metadata": {
  "kernelspec": {
   "display_name": "Python 3",
   "language": "python",
   "name": "python3"
  },
  "language_info": {
   "codemirror_mode": {
    "name": "ipython",
    "version": 3
   },
   "file_extension": ".py",
   "mimetype": "text/x-python",
   "name": "python",
   "nbconvert_exporter": "python",
   "pygments_lexer": "ipython3",
   "version": "3.8.3"
  }
 },
 "nbformat": 4,
 "nbformat_minor": 4
}
