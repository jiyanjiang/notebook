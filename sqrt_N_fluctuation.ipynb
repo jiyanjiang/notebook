{
 "metadata": {
  "name": "",
  "signature": "sha256:9840362983db6795650bd0a16062e389a5db03dd40fae466cbc739e87a2b4db5"
 },
 "nbformat": 3,
 "nbformat_minor": 0,
 "worksheets": [
  {
   "cells": [
    {
     "cell_type": "markdown",
     "metadata": {},
     "source": [
      "\u5047\u8bbe\u5411\u91cf$\\vec R$\uff0c\u7531N\u4e2a\u5411\u91cf$\\vec r_i$\u53e0\u52a0\u800c\u6210\uff0c$\\vec r_i$\u662f\u4e2a\u5927\u5c0f$r$\u786e\u5b9a\uff0c\u4f46\u65b9\u5411$\\theta_i$\u968f\u673a\u7684\u5411\u91cf\u3002\n",
      "\n",
      "$r_i = r \\left( \\cos \\theta_i , \\sin \\theta_i  \\right)$\n",
      "\n",
      "$\\vec R = \\sum_i \\vec r_i$\n",
      "\n",
      "$\\vec R$\u7684\u5e73\u5747\u503c$\\left\\langle \\vec R \\right\\rangle$\uff1a\n",
      "\n",
      "$\\left\\langle \\vec R \\right\\rangle = 0$\n",
      "\n",
      "$\\vec R$\u7684\u5927\u5c0f\u662f$|\\vec R| = \\sqrt{\\vec R \\cdot \\vec R}$\n",
      "\n",
      "$\\vec R \\cdot \\vec R =\\left( \\sum_i \\vec r_i \\right) \\cdot \\left( \\sum_j \\vec r_j \\right) = \\sum_i \\vec r_i \\cdot \\vec r_i +  2 \\sum_{i \\neq j} \\vec r_i \\cdot \\vec r_j  $\n",
      "\n",
      "\u4ee5\u4e0a\u6c42\u548c\u4e2d\uff0c\u7b2c\u4e00\u9879\u5bf9\u5e94$i = j$\u7684\u9879\uff0c\u5171$N$\u9879\uff0c\u7b2c\u4e8c\u9879\u5bf9\u5e94\u7684\u662f$i \\neq j$\u7684\u9879\uff0c\u5171$N(N-1)$\u9879\u3002\u5373\uff1a$N^2 = N + N(N-1)$\u3002\n",
      "\n",
      "\u5047\u8bbe\u6bcf\u4e00\u4e2a\u5c0f\u77e2\u91cf\u7684\u5927\u5c0f\u662f$r$\uff0c\u65b9\u5411$\\theta$\u662f\u968f\u673a\u7684\uff0c\n",
      "\n",
      "$\\vec r_i \\cdot \\vec r_j = r_i r_j \\cos (\\theta_i - \\theta_j)$\n",
      "\n",
      "$\\vec r_i$\u548c$\\vec r_j$\u7684\u5939\u89d2$(\\theta_i - \\theta_j)$\u662f\u968f\u673a\u7684\uff0c\u5e73\u5747\u800c\u8a00\uff1a$\\left\\langle \\cos (\\theta_i - \\theta_j) \\right\\rangle = 0$\n",
      "\n",
      "\u73b0\u5728\uff1a\n",
      "\n",
      "$\\vec R \\cdot \\vec R = N r^2$\uff0c\n",
      "\n",
      "$\\vec R$\u7684\u5927\u5c0f\u662f\uff1a\n",
      "\n",
      "$| \\vec R | = \\sqrt{N} r$\n"
     ]
    },
    {
     "cell_type": "code",
     "collapsed": false,
     "input": [],
     "language": "python",
     "metadata": {},
     "outputs": [],
     "prompt_number": 0
    },
    {
     "cell_type": "code",
     "collapsed": false,
     "input": [],
     "language": "python",
     "metadata": {},
     "outputs": []
    }
   ],
   "metadata": {}
  }
 ]
}