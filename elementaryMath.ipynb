{
 "metadata": {
  "name": "",
  "signature": "sha256:b0fd1adfcd4d1cae4a55401f3da8108f34b30519de36141cf8f97a44384ee7aa"
 },
 "nbformat": 3,
 "nbformat_minor": 0,
 "worksheets": [
  {
   "cells": [
    {
     "cell_type": "markdown",
     "metadata": {},
     "source": [
      "\uff081\uff09\u82e5$m, n$\u4e92\u4e3a\u5012\u6570\uff0c\u5219$m n^2 - (n-1)$\u7684\u503c\u4e3a\uff1a"
     ]
    },
    {
     "cell_type": "markdown",
     "metadata": {},
     "source": [
      "\u89e3\uff1a$m = \\frac{1}{n} = n^{-1}$\uff0c$n^{-1}n^2 - (n -1) = n -n + 1 = 1$"
     ]
    },
    {
     "cell_type": "markdown",
     "metadata": {},
     "source": [
      "\uff082\uff09\u5df2\u77e5\u6709\u7406\u6570$a, b, c$\u5728\u6570\u8f74\u4e0a\u7684\u4f4d\u7f6e\u5982\u56fe\uff0c\u4e14$|a| = b$\uff0c\u5219\u4ee3\u6570\u5f0f$|a| - |c-a| + |c-b| -|-b|$\u7684\u503c\u4e3a\uff1f"
     ]
    },
    {
     "cell_type": "markdown",
     "metadata": {},
     "source": [
      "\u89e3\uff1a$a < 0$, $|a| = - a$; $c> a$, $|c-a| = c-a$; $b>c$, $|c-b|= b-c$; $b > 0$, $|-b|= b$; then, $|a| - |c-a| + |c- b |- |-b| = -a - (c-a)+ (b-c)- b = -a -c + a + b -c - b = - 2c$"
     ]
    },
    {
     "cell_type": "markdown",
     "metadata": {},
     "source": [
      "\uff083\uff09\u6709\u7532\u3001\u4e59\u4e24\u79cd\u7cd6\u679c\uff0c\u539f\u4ef7\u5206\u522b\u4e3a\u6bcf\u5343\u514b$a$\u5143\u548c$b$\u5143\uff0c\u6839\u636e\u67dc\u53f0\u7ec4\u8c03\u67e5\uff0c\u5c06\u4e24\u79cd\u7cd6\u679c\u6309\u7532\u79cd\u7cd6\u679c$m$\u5343\u514b\u4e0e\u4e59\u79cd\u7cd6\u679c$n$\u5343\u514b\u7684\u6bd4\u4f8b\u6df7\u5408\uff0c\u53d6\u5f97\u4e86\u8f83\u597d\u7684\u9500\u552e\u6548\u679c\u3002\u73b0\u5728\u7cd6\u679c\u4ef7\u683c\u6709\u4e86\u8c03\u6574\uff1a\u7532\u79cd\u7cd6\u679c\u5355\u4ef7\u4e0a\u6da8c%\uff0c\u4e59\u79cd\u7cd6\u679c\u5355\u4ef7\u4e0b\u8dccd%\uff0c\u4f46\u6309\u539f\u6bd4\u4f8b\u6df7\u5408\u7684\u7cd6\u679c\u5355\u4ef7\u6070\u597d\u4e0d\u53d8\uff0c\u90a3\u4e48$\\frac{m}{n}$\u7b49\u4e8e\uff1f"
     ]
    },
    {
     "cell_type": "markdown",
     "metadata": {},
     "source": [
      "\u89e3\uff1a\u5355\u4ef7$\\frac{ma + nb}{m + n}$\uff0c\u4ef7\u683c\u8c03\u6574\u540e\uff1a$\\frac{ma(1+c/100) + nb(1-d/100) }{m +n}$"
     ]
    },
    {
     "cell_type": "markdown",
     "metadata": {},
     "source": [
      "$\\frac{mac}{100} = \\frac{nbd}{100} $, then $\\frac{m}{n} = \\frac{bd}{ac}$"
     ]
    },
    {
     "cell_type": "markdown",
     "metadata": {},
     "source": [
      "\uff084\uff09\u5df2\u77e5\u591a\u9879\u5f0f$(2x^2 + ax - y + 6) - (2bx^2 -3x + 5 y -1 )$"
     ]
    },
    {
     "cell_type": "markdown",
     "metadata": {},
     "source": [
      "1.\u82e5\u591a\u9879\u5f0f\u7684\u503c\u4e0e\u5b57\u6bcd$x$\u7684\u53d6\u503c\u65e0\u5173\uff0c\u6c42$a, b$\u7684\u503c\uff1f"
     ]
    },
    {
     "cell_type": "markdown",
     "metadata": {},
     "source": [
      "\u89e3\uff1a$2 = 2b$, $a= -3$, $b = 1$"
     ]
    },
    {
     "cell_type": "markdown",
     "metadata": {},
     "source": [
      "2.\u5728(1.)\u7684\u6761\u4ef6\u4e0b\uff0c\u6c42\u591a\u9879\u5f0f$3(a^2 - 2 ab - b^2) - (3 a^2 + ab + b^2)$\u7684\u503c\uff1f"
     ]
    },
    {
     "cell_type": "code",
     "collapsed": false,
     "input": [
      "a=-3\n",
      "b=1\n",
      "\n",
      "f=3*(a*a - 2*a*b - b*b)-(3*a*a + a*b + b*b)\n",
      "f"
     ],
     "language": "python",
     "metadata": {},
     "outputs": [
      {
       "metadata": {},
       "output_type": "pyout",
       "prompt_number": 1,
       "text": [
        "17"
       ]
      }
     ],
     "prompt_number": 1
    },
    {
     "cell_type": "markdown",
     "metadata": {},
     "source": [
      "3.\u5728\uff081.\uff09\u7684\u6761\u4ef6\u4e0b\uff0c\u6c42$(b+ a^2) +(2b + \\frac{1}{1 \\times 2} a^2) + (3b + \\frac{1}{2 \\times 3} a^2) + ... + (9b + \\frac{1}{8 \\times 9 } a^2)$\u7684\u503c\uff1f"
     ]
    },
    {
     "cell_type": "markdown",
     "metadata": {},
     "source": [
      "\u89e3\uff1a\n",
      "$b + 2b + ... 9 b = \\frac{(1 + 9)\\times 9}{2} b = 45b$"
     ]
    },
    {
     "cell_type": "markdown",
     "metadata": {},
     "source": [
      "$1 + \\frac{1}{1 \\times 2} + \\frac{1}{2 \\times 3} + ... + \\frac{1}{8 \\times 9} = 1 + 1 - \\frac{1}{2} + \\frac{1}{2} - \\frac{1}{3} + ... + \\frac{1}{8} - \\frac{1}{9} = 2- \\frac{1}{9}$"
     ]
    },
    {
     "cell_type": "markdown",
     "metadata": {},
     "source": [
      "$45 b = 45 \\times 1 = 45$; $(2 - \\frac{1}{9})a^2 = 18-1 = 17$"
     ]
    },
    {
     "cell_type": "markdown",
     "metadata": {},
     "source": [
      "then, $... = 45 + 17 = 62$"
     ]
    },
    {
     "cell_type": "markdown",
     "metadata": {},
     "source": [
      "\uff084\uff09\u6709\u4e00\u5f20\u7eb8\uff0c\u7b2c\u4e00\u6b21\u628a\u5b83\u5206\u5272\u62104\u7247\uff0c\u7b2c2\u6b21\u628a\u5176\u4e2d\u76841\u7247\u5206\u62104\u7247\uff0c\u4ee5\u540e\u6bcf\u4e00\u6b21\u90fd\u628a\u524d\u9762\u6240\u5f97\u7684\u5176\u4e2d\u4e00\u7247\u5206\u5272\u62104\u7247\uff0c\u5982\u6b64\u8fdb\u884c\u4e0b\u53bb\uff0c\uff081.\uff09\u7ecf5\u6b21\u5206\u5272\u540e\uff0c\u5171\u5f97\u5230\u591a\u5c11\u5f20\u7eb8\u7247\uff1f"
     ]
    },
    {
     "cell_type": "markdown",
     "metadata": {},
     "source": [
      "\u89e3\uff1a$n=1$, $f_1 = 4$; $n = 2$, $f_2 = 3 + 4$; $n = 3$, $f_3 = 3 + 3 + 4$ ... $n = 5$, $f_5 = 3\\times 5 + 1 = 16$"
     ]
    },
    {
     "cell_type": "markdown",
     "metadata": {},
     "source": [
      "\uff082.\uff09\u7ecf\u8fc7$n$\u6b21\u5206\u5272\u540e\uff0c\u5171\u5f97\u5230\u591a\u5c11\u5f20\u7eb8\u7247\uff1f"
     ]
    },
    {
     "cell_type": "markdown",
     "metadata": {},
     "source": [
      "\u89e3\uff1a$f_n = 3n + 1$"
     ]
    },
    {
     "cell_type": "markdown",
     "metadata": {},
     "source": [
      "(3.)\u80fd\u5426\u7ecf\u8fc7\u82e5\u5e72\u6b21\u5206\u5272\u540e\u5171\u5f97\u52302003\u5f20\u7eb8\u7247\uff1f\u4e3a\u4ec0\u4e48\uff1f"
     ]
    },
    {
     "cell_type": "markdown",
     "metadata": {},
     "source": [
      "\u89e3\uff1a$3 n + 1 = 2003$, 2002\u65e0\u6cd5\u88ab3\u6574\u9664\uff0c\u6240\u4ee5\u4e0d\u80fd\u3002"
     ]
    },
    {
     "cell_type": "markdown",
     "metadata": {},
     "source": [
      "\uff085\uff09\u5df2\u77e5$b$\u662f\u6700\u5c0f\u7684\u6b63\u6574\u6570\u4e14$a, b, c$\u6ee1\u8db3$(c-5)^2 + |a+b|= 0$\uff0c(1.)$a, b, c$\u5404\u662f\u591a\u5c11\uff1f"
     ]
    },
    {
     "cell_type": "markdown",
     "metadata": {},
     "source": [
      "\u89e3\uff1a$b = 1$, $(c-5)^2$\u548c$|a-b|$\u975e\u8d1f\uff0c\u6240\u4ee5$a=-1$, $c=5$"
     ]
    },
    {
     "cell_type": "markdown",
     "metadata": {},
     "source": [
      "(2.)$a,b,c$\u6240\u5bf9\u5e94\u7684\u70b9\u5206\u522b\u4e3aA, B, C, \u70b9P\u4e3a\u4e00\u52a8\u70b9\uff0c\u5176\u5bf9\u5e94\u7684\u6570\u4e3a$x$\uff0c\u70b9P\u57281\u52302\u4e4b\u95f4\u8fd0\u52a8\u65f6(\u5373$1 \\le x \\le 2 $)\uff0c\u8bf7\u5316\u7b80\u5f0f\u5b50$|x+1| - |x-1| + 2|x-5|$\uff0c"
     ]
    },
    {
     "cell_type": "markdown",
     "metadata": {},
     "source": [
      "\u89e3\uff1a$x \\ge 1$, $|x+1 | = x+1$, $|x-1| =x-1 $, $|x-5| = 5-x$, \n",
      "\n",
      "then $... = x+1 - (x -1) + 2(5-x) = 12-2x$"
     ]
    },
    {
     "cell_type": "markdown",
     "metadata": {},
     "source": [
      "(3.)\u5728(1.2.)\u7684\u6761\u4ef6\u4e0b\uff0c\u70b9A, B, C\u5f00\u59cb\u5728\u6570\u8f74\u4e0a\u8fd0\u52a8\uff0c\u82e5\u70b9A\u4ee5\u6bcf\u79d21\u4e2a\u5355\u4f4d\u957f\u5ea6\u7684\u901f\u5ea6\u5411\u5de6\u8fd0\u52a8\uff0c\u540c\u65f6\uff0c\u70b9B\u548c\u70b9C\u5206\u522b\u4ee5\u6bcf\u79d22\u4e2a\u5355\u4f4d\u957f\u5ea6\u548c5\u4e2a\u5355\u4f4d\u957f\u5ea6\u7684\u901f\u5ea6\u5411\u53f3\u8fd0\u52a8\uff0c\u5047\u8bbet\u79d2\u4e4b\u540e\uff0c\u82e5\u70b9B\u4e0e\u70b9C\u4e4b\u95f4\u7684\u8ddd\u79bb\u8868\u793a\u4e3aBC\uff0c\u70b9A\u4e0e\u70b9B\u4e4b\u95f4\u7684\u8ddd\u79bb\u8868\u793a\u4e3aAB\u3002\u8bf7\u95ee\uff1aBC-AB\u7684\u503c\u662f\u5426\u968f\u7740\u65f6\u95f4t\u7684\u53d8\u5316\u800c\u6539\u53d8\uff1f\u82e5\u53d8\u5316\uff0c\u8bf7\u8bf4\u660e\u7406\u7531\uff0c\u82e5\u4e0d\u53d8\uff0c\u8bf7\u6c42\u5176\u503c\u3002"
     ]
    },
    {
     "cell_type": "markdown",
     "metadata": {},
     "source": [
      "\u89e3\uff1aA\u70b9\u7684\u4f4d\u7f6e$-1$, \u8fd0\u52a8\u8d77\u6765\u540e$-1-t$;\n",
      "\n",
      "B\u70b9\u7684\u4f4d\u7f6e$1$, \u8fd0\u52a8\u8d77\u6765\u540e$1+2t$;\n",
      "\n",
      "C\u70b9\u5f97\u4f4d\u7f6e$5$, \u8fd0\u52a8\u8d77\u6765\u540e$5 + 5t$.\n",
      "\n",
      "AB\u7684\u503c\u662f\uff1a$1 + 2t - (-1 -t ) = 2 + 3t$;\n",
      "\n",
      "BC\u7684\u503c\u662f\uff1a$5 + 5t - (1 +2t) = 4 + 3t$;\n",
      "\n",
      "BC-AB = $4 + 3t - (2 + 3t) = 2$, \u5373\u4e0d\u968f\u65f6\u95f4\u53d8\u5316\uff0c\u4f4d\u7f6e\u662f2\u3002 "
     ]
    }
   ],
   "metadata": {}
  }
 ]
}